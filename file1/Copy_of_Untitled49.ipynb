{
  "nbformat": 4,
  "nbformat_minor": 0,
  "metadata": {
    "colab": {
      "provenance": [],
      "include_colab_link": true
    },
    "kernelspec": {
      "name": "python3",
      "display_name": "Python 3"
    },
    "language_info": {
      "name": "python"
    }
  },
  "cells": [
    {
      "cell_type": "markdown",
      "metadata": {
        "id": "view-in-github",
        "colab_type": "text"
      },
      "source": [
        "<a href=\"https://colab.research.google.com/github/Supritha04/python_files/blob/main/file1/Copy_of_Untitled49.ipynb\" target=\"_parent\"><img src=\"https://colab.research.google.com/assets/colab-badge.svg\" alt=\"Open In Colab\"/></a>"
      ]
    },
    {
      "cell_type": "markdown",
      "source": [
        "## how would you confimm that two strings have the same identity?"
      ],
      "metadata": {
        "id": "eh5Ph74_HqpD"
      }
    },
    {
      "cell_type": "markdown",
      "source": [
        "## How would you check if 4th letter of string is a smaller case?"
      ],
      "metadata": {
        "id": "KroA6Nd_IGT-"
      }
    },
    {
      "cell_type": "code",
      "source": [
        "#to confirm that two strings have the same identity we use \"is\" operator"
      ],
      "metadata": {
        "id": "m2ljWQCXIvqA"
      },
      "execution_count": null,
      "outputs": []
    },
    {
      "cell_type": "code",
      "source": [
        "string1 = \"hello\"\n",
        "string2 = \"hello\"\n",
        "\n",
        "if string1 is string2:\n",
        "    print(\"The strings have the same identity.\")\n",
        "else:\n",
        "    print(\"The strings do not have the same identity.\")"
      ],
      "metadata": {
        "id": "lUL_K_6yIwf1",
        "colab": {
          "base_uri": "https://localhost:8080/"
        },
        "outputId": "8726bc18-a888-423e-8a8d-7f10bc277868"
      },
      "execution_count": null,
      "outputs": [
        {
          "output_type": "stream",
          "name": "stdout",
          "text": [
            "The strings have the same identity.\n"
          ]
        }
      ]
    },
    {
      "cell_type": "markdown",
      "source": [
        "## how to check a string contain a specific substring"
      ],
      "metadata": {
        "id": "EGK-LzalIO_i"
      }
    },
    {
      "cell_type": "code",
      "source": [
        "s1='abcdefghijklmnopqrstu'\n",
        "s2='xyz'\n",
        "if s2 in s1:\n",
        "  print(\"Substring is present\")\n",
        "else:\n",
        "  print(\"Substring is not present\")"
      ],
      "metadata": {
        "id": "2vNJwhT4Iw2F",
        "colab": {
          "base_uri": "https://localhost:8080/"
        },
        "outputId": "f67112ca-31c5-45a1-cd27-359f17709839"
      },
      "execution_count": null,
      "outputs": [
        {
          "output_type": "stream",
          "name": "stdout",
          "text": [
            "Substring is not present\n"
          ]
        }
      ]
    },
    {
      "cell_type": "markdown",
      "source": [
        "## how to check whether a given string is a pllindrome"
      ],
      "metadata": {
        "id": "VxAWiLGmIm_9"
      }
    },
    {
      "cell_type": "code",
      "source": [
        "s1='mom'\n",
        "if s1==s1[::-1]:\n",
        "  print(\"String is pallindrome\")\n",
        "else:\n",
        "  print(\"String is not pallindrome\")"
      ],
      "metadata": {
        "id": "Qv_T5MHMIxZR",
        "colab": {
          "base_uri": "https://localhost:8080/"
        },
        "outputId": "7d47c131-4ddb-48a5-d5fb-d308f6d9e4e3"
      },
      "execution_count": null,
      "outputs": [
        {
          "output_type": "stream",
          "name": "stdout",
          "text": [
            "String is not pallindrome\n"
          ]
        }
      ]
    },
    {
      "cell_type": "markdown",
      "source": [
        "## How to find the length and index of the string?"
      ],
      "metadata": {
        "id": "duytPz1XIvDx"
      }
    },
    {
      "cell_type": "code",
      "source": [
        "s1='abcdef'\n",
        "print(len(s1))\n",
        "n=len(s1)\n",
        "for i in range(n):\n",
        "  print(i,\" : \",s1[i])"
      ],
      "metadata": {
        "id": "g1HYIC9gJ7Vi",
        "colab": {
          "base_uri": "https://localhost:8080/"
        },
        "outputId": "4c455ed7-0d24-4c61-ddea-28f0f417a904"
      },
      "execution_count": null,
      "outputs": [
        {
          "output_type": "stream",
          "name": "stdout",
          "text": [
            "6\n",
            "0  :  a\n",
            "1  :  b\n",
            "2  :  c\n",
            "3  :  d\n",
            "4  :  e\n",
            "5  :  f\n"
          ]
        }
      ]
    },
    {
      "cell_type": "markdown",
      "source": [
        "## how to a take a string from backward with two step difference?\n"
      ],
      "metadata": {
        "id": "LmY6RXjoJF9h"
      }
    },
    {
      "cell_type": "code",
      "source": [
        "s1='abcdefghijkl'\n",
        "print(s1[::-2])"
      ],
      "metadata": {
        "id": "_C_pqVqBJ8AA",
        "colab": {
          "base_uri": "https://localhost:8080/"
        },
        "outputId": "e195d5d0-93d5-4ef8-ca03-8f3dd4c7c394"
      },
      "execution_count": null,
      "outputs": [
        {
          "output_type": "stream",
          "name": "stdout",
          "text": [
            "ljhfdb\n"
          ]
        }
      ]
    },
    {
      "cell_type": "markdown",
      "source": [
        "## how to find the index of the last element"
      ],
      "metadata": {
        "id": "7eg6JfyuJr_2"
      }
    },
    {
      "cell_type": "code",
      "source": [
        "s1='abcdefghi'\n",
        "n=len(s1)\n",
        "print(n-1)"
      ],
      "metadata": {
        "id": "T84ODp77J8zR",
        "colab": {
          "base_uri": "https://localhost:8080/"
        },
        "outputId": "db77bebb-1d46-488f-aebb-5e9a31cfe924"
      },
      "execution_count": null,
      "outputs": [
        {
          "output_type": "stream",
          "name": "stdout",
          "text": [
            "8\n"
          ]
        }
      ]
    },
    {
      "cell_type": "markdown",
      "source": [
        "## Write 2 ways to concatinate the string"
      ],
      "metadata": {
        "id": "FTdxvLc1J0lv"
      }
    },
    {
      "cell_type": "code",
      "source": [
        "s1='abc'\n",
        "s2='def'\n",
        "print(\"First way to concatinate\")\n",
        "print(s1+s2)\n",
        "s3='ghi'\n",
        "s4='jkl'\n",
        "s5=''.join([s3,s4])\n",
        "print(\"Second way to concatinate\")\n",
        "print(s5)"
      ],
      "metadata": {
        "id": "j8P9ODeTJ9Zz",
        "colab": {
          "base_uri": "https://localhost:8080/"
        },
        "outputId": "1d24e1d3-e2a8-4700-d62b-479bac5615e8"
      },
      "execution_count": null,
      "outputs": [
        {
          "output_type": "stream",
          "name": "stdout",
          "text": [
            "First way to concatinate\n",
            "abcdef\n",
            "Second way to concatinate\n",
            "ghijkl\n"
          ]
        }
      ]
    }
  ]
}