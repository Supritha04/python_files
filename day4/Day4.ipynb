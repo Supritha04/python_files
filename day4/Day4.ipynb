{
  "nbformat": 4,
  "nbformat_minor": 0,
  "metadata": {
    "colab": {
      "provenance": [],
      "collapsed_sections": [
        "uRvHq6WK1iip",
        "HrRqpK9A1mvj",
        "ZlrFrill3Bl4"
      ],
      "gpuType": "T4",
      "include_colab_link": true
    },
    "kernelspec": {
      "name": "python3",
      "display_name": "Python 3"
    },
    "language_info": {
      "name": "python"
    },
    "accelerator": "GPU"
  },
  "cells": [
    {
      "cell_type": "markdown",
      "metadata": {
        "id": "view-in-github",
        "colab_type": "text"
      },
      "source": [
        "<a href=\"https://colab.research.google.com/github/Supritha04/python_files/blob/main/day4/Day4.ipynb\" target=\"_parent\"><img src=\"https://colab.research.google.com/assets/colab-badge.svg\" alt=\"Open In Colab\"/></a>"
      ]
    },
    {
      "cell_type": "markdown",
      "source": [
        "`Good morning, wish you all the best,.All the 3 assignment has been included here only`"
      ],
      "metadata": {
        "id": "jWYB760w4xUu"
      }
    },
    {
      "cell_type": "markdown",
      "source": [
        "# Part ONe"
      ],
      "metadata": {
        "id": "uRvHq6WK1iip"
      }
    },
    {
      "cell_type": "markdown",
      "source": [
        "## 1. Create a function that sum only the float number from a given hetrogenous list"
      ],
      "metadata": {
        "id": "xpZzcKAyyb6V"
      }
    },
    {
      "cell_type": "code",
      "source": [
        "l=[1,2.0,\"a\",9.12,\"abc\"]\n",
        "fn= [x for x in l if isinstance(x, float)]\n",
        "print(sum(fn))"
      ],
      "metadata": {
        "id": "eLlEJRxTy8_f",
        "colab": {
          "base_uri": "https://localhost:8080/"
        },
        "outputId": "e49a7939-a089-46b1-8d7e-eb04b8a77f90"
      },
      "execution_count": null,
      "outputs": [
        {
          "output_type": "stream",
          "name": "stdout",
          "text": [
            "11.12\n"
          ]
        }
      ]
    },
    {
      "cell_type": "code",
      "source": [
        "original_list=[1, 2, 3, 4, 5]\n",
        "reversed_list=[]\n",
        "for i in reversed(original_list):\n",
        "    reversed_list.append(i)\n",
        "print(\"Original List:\",original_list)\n",
        "print(\"Reversed List:\",reversed_list)"
      ],
      "metadata": {
        "id": "TO6D3KTSy9-x",
        "colab": {
          "base_uri": "https://localhost:8080/"
        },
        "outputId": "d036bda8-13f8-4d6d-adcd-12a9b4c6abfd"
      },
      "execution_count": null,
      "outputs": [
        {
          "output_type": "stream",
          "name": "stdout",
          "text": [
            "Original List: [1, 2, 3, 4, 5]\n",
            "Reversed List: [5, 4, 3, 2, 1]\n"
          ]
        }
      ]
    },
    {
      "cell_type": "markdown",
      "source": [
        "## 2. Count the total number of digit using the loop"
      ],
      "metadata": {
        "id": "MxMyCaZHzEB-"
      }
    },
    {
      "cell_type": "code",
      "source": [
        "n=1221221\n",
        "c=0\n",
        "while n>0:\n",
        "  c=c+1\n",
        "  n=n // 10\n",
        "print(c)"
      ],
      "metadata": {
        "id": "DZYJiYdQzcVv",
        "colab": {
          "base_uri": "https://localhost:8080/"
        },
        "outputId": "19550000-cb26-43f5-a9b8-e2ec56332004"
      },
      "execution_count": null,
      "outputs": [
        {
          "output_type": "stream",
          "name": "stdout",
          "text": [
            "7\n"
          ]
        }
      ]
    },
    {
      "cell_type": "markdown",
      "source": [
        "## 3. Display this\n",
        "5 4 3 2 1\n",
        "\n",
        "4 3 2 1\n",
        "\n",
        "3 2 1\n",
        "\n",
        "2 1\n",
        "\n",
        "1"
      ],
      "metadata": {
        "id": "kG8Phx7VzYWD"
      }
    },
    {
      "cell_type": "code",
      "source": [
        "n=5\n",
        "k=5\n",
        "for i in range(0,n):\n",
        "  for j in range(0,n-i):\n",
        "    print(k-j,end=' ')\n",
        "  k=k-1\n",
        "  print()"
      ],
      "metadata": {
        "id": "rGTwJZB3IEDE",
        "colab": {
          "base_uri": "https://localhost:8080/"
        },
        "outputId": "e54d83ee-0b9d-40f8-f7b1-bb32f135d4cb"
      },
      "execution_count": null,
      "outputs": [
        {
          "output_type": "stream",
          "name": "stdout",
          "text": [
            "5 4 3 2 1 \n",
            "4 3 2 1 \n",
            "3 2 1 \n",
            "2 1 \n",
            "1 \n"
          ]
        }
      ]
    },
    {
      "cell_type": "markdown",
      "source": [
        "## 4. Display this"
      ],
      "metadata": {
        "id": "xTaGWpQXzy-M"
      }
    },
    {
      "cell_type": "code",
      "source": [
        "*\n",
        "* *\n",
        "* * *\n",
        "* * * *\n",
        "* * * * *\n",
        "* * * *\n",
        "* * *\n",
        "* *\n",
        "*"
      ],
      "metadata": {
        "id": "ixPmbjRfzx16"
      },
      "execution_count": null,
      "outputs": []
    },
    {
      "cell_type": "code",
      "source": [
        "n=5\n",
        "for i in range(0,n):\n",
        "  for j in range(0,i):\n",
        "    print(\"*\",end=\" \")\n",
        "  print()\n",
        "for i in range(0,n):\n",
        "  for j in range(0,n-i):\n",
        "    print(\"*\",end=\" \")\n",
        "  print()"
      ],
      "metadata": {
        "colab": {
          "base_uri": "https://localhost:8080/"
        },
        "id": "0p9W4ES1KezZ",
        "outputId": "aa4b2e27-28f0-473f-e379-dbcdaab17ec6"
      },
      "execution_count": null,
      "outputs": [
        {
          "output_type": "stream",
          "name": "stdout",
          "text": [
            "\n",
            "* \n",
            "* * \n",
            "* * * \n",
            "* * * * \n",
            "* * * * * \n",
            "* * * * \n",
            "* * * \n",
            "* * \n",
            "* \n"
          ]
        }
      ]
    },
    {
      "cell_type": "markdown",
      "source": [
        "## 5. Write function that generate multiplication table upto a given range in Python"
      ],
      "metadata": {
        "id": "1OYQk9N70Ax3"
      }
    },
    {
      "cell_type": "code",
      "source": [
        "n=5\n",
        "for i in range(1,11):\n",
        "  print(n,\" * \",i,\" = \",n*i)"
      ],
      "metadata": {
        "id": "NeosDqO904-u",
        "colab": {
          "base_uri": "https://localhost:8080/"
        },
        "outputId": "195f7eae-fbe9-4465-eb7d-67b9bbc22cf0"
      },
      "execution_count": null,
      "outputs": [
        {
          "output_type": "stream",
          "name": "stdout",
          "text": [
            "5  *  1  =  5\n",
            "5  *  2  =  10\n",
            "5  *  3  =  15\n",
            "5  *  4  =  20\n",
            "5  *  5  =  25\n",
            "5  *  6  =  30\n",
            "5  *  7  =  35\n",
            "5  *  8  =  40\n",
            "5  *  9  =  45\n",
            "5  *  10  =  50\n"
          ]
        }
      ]
    },
    {
      "cell_type": "code",
      "source": [
        "# what are the difference between the list comprehension and loop??"
      ],
      "metadata": {
        "id": "V9z-kXUi0468"
      },
      "execution_count": null,
      "outputs": []
    },
    {
      "cell_type": "code",
      "source": [
        "#list comprehension and loops difference can be explained with a simple example\n",
        "squares1 = [x**2 for x in range(1, 6)]\n",
        "print(squares1)\n",
        "squares2 = []\n",
        "for x in range(1, 6):\n",
        "  squares2.append(x**2)\n",
        "print(squares2)"
      ],
      "metadata": {
        "id": "e0eLnJqd04b2",
        "colab": {
          "base_uri": "https://localhost:8080/"
        },
        "outputId": "f079d116-2924-4c03-8da7-3f60d21f12e9"
      },
      "execution_count": null,
      "outputs": [
        {
          "output_type": "stream",
          "name": "stdout",
          "text": [
            "[1, 4, 9, 16, 25]\n",
            "[1, 4, 9, 16, 25]\n"
          ]
        }
      ]
    },
    {
      "cell_type": "markdown",
      "source": [
        "# Part two"
      ],
      "metadata": {
        "id": "HrRqpK9A1mvj"
      }
    },
    {
      "cell_type": "markdown",
      "source": [
        "## 6. Write a python program for the palindrome checker using the loop"
      ],
      "metadata": {
        "id": "T36QPuxw1pfo"
      }
    },
    {
      "cell_type": "code",
      "source": [
        "n=1221\n",
        "q=n\n",
        "r=0\n",
        "rn=0\n",
        "while n>0:\n",
        "  r=n%10\n",
        "  n=n // 10\n",
        "  rn=(rn*10)+r\n",
        "if q==rn:\n",
        "  print(q,\" is palindrome\")\n",
        "else:\n",
        "  print(q,\" is not palindrome\")"
      ],
      "metadata": {
        "id": "5k_AjmF_2c6r",
        "colab": {
          "base_uri": "https://localhost:8080/"
        },
        "outputId": "815578fc-ab32-4992-cb5c-ba7f0ab49017"
      },
      "execution_count": null,
      "outputs": [
        {
          "output_type": "stream",
          "name": "stdout",
          "text": [
            "1221  is palindrome\n"
          ]
        }
      ]
    },
    {
      "cell_type": "markdown",
      "source": [
        "## 7. Factorial Calculation\n",
        "Write a program that calculates the factorial of a given number using a loop. The user should input the number, and the program should display its factorial."
      ],
      "metadata": {
        "id": "QLZ4Dc1O1zHm"
      }
    },
    {
      "cell_type": "code",
      "source": [
        "n=int(input(\"Enter number : \"))\n",
        "f=1\n",
        "k=2\n",
        "if n<2:\n",
        "  print(\"-1\")\n",
        "else:\n",
        "  while n>0:\n",
        "    f=f*n\n",
        "    n=n-1\n",
        "print(f)"
      ],
      "metadata": {
        "id": "XJZCGK0s2LYV",
        "colab": {
          "base_uri": "https://localhost:8080/"
        },
        "outputId": "621e582e-33e4-4715-e087-b6f1884b43b6"
      },
      "execution_count": null,
      "outputs": [
        {
          "output_type": "stream",
          "name": "stdout",
          "text": [
            "Enter number : 10\n",
            "3628800\n"
          ]
        }
      ]
    },
    {
      "cell_type": "markdown",
      "source": [
        "## 8. Binary to Decimal Converter\n",
        "Create a program that converts a binary number (entered by the user) to its decimal equivalent. The user should input the binary number as a string, and the program should output its decimal equivalent."
      ],
      "metadata": {
        "id": "dAX_1Cgx2LtY"
      }
    },
    {
      "cell_type": "code",
      "source": [
        "nu=input(\"Enter binary number : \")\n",
        "num=nu[::-1]\n",
        "k=0\n",
        "n=0\n",
        "for i in num:\n",
        "  if(i==\"1\"):\n",
        "    n=n+(2**k)\n",
        "  k=k+1\n",
        "print(n)"
      ],
      "metadata": {
        "colab": {
          "base_uri": "https://localhost:8080/"
        },
        "id": "pImobViQR8HB",
        "outputId": "5b2fd154-28e4-4727-94a4-547008a36693"
      },
      "execution_count": null,
      "outputs": [
        {
          "output_type": "stream",
          "name": "stdout",
          "text": [
            "Enter binary number : 1001\n",
            "9\n"
          ]
        }
      ]
    },
    {
      "cell_type": "markdown",
      "source": [
        "## 10. Matrix Transposition:\n",
        "Create a program that transposes a given matrix. The user should input the matrix as a list of lists, and the program should output the transposed matrix. For example, if the input is:"
      ],
      "metadata": {
        "id": "bhFgXCu52R3n"
      }
    },
    {
      "cell_type": "code",
      "source": [
        "print(\"Enter the matrix:\")\n",
        "rows = int(input(\"Enter the number of rows: \"))\n",
        "columns = int(input(\"Enter the number of columns: \"))\n",
        "matrix = []\n",
        "for i in range(rows):\n",
        "  row = []\n",
        "  for j in range(columns):\n",
        "    element = int(input())\n",
        "    row.append(element)\n",
        "  matrix.append(row)\n",
        "print(\"\\nTransposed Matrix:\")\n",
        "for i in range(columns):\n",
        "  for j in range(rows):\n",
        "    print(matrix[j][i],end=\" \")\n",
        "  print()"
      ],
      "metadata": {
        "id": "DhprwtQ02hWg",
        "colab": {
          "base_uri": "https://localhost:8080/"
        },
        "outputId": "6ef032b3-1a1f-4877-fade-aff3e688482f"
      },
      "execution_count": null,
      "outputs": [
        {
          "output_type": "stream",
          "name": "stdout",
          "text": [
            "Enter the matrix:\n",
            "Enter the number of rows: 3\n",
            "Enter the number of columns: 3\n",
            "1\n",
            "2\n",
            "3\n",
            "4\n",
            "5\n",
            "6\n",
            "7\n",
            "8\n",
            "9\n",
            "\n",
            "Transposed Matrix:\n",
            "1 4 7 \n",
            "2 5 8 \n",
            "3 6 9 \n"
          ]
        }
      ]
    },
    {
      "cell_type": "markdown",
      "source": [
        "`Feel free to tackle these exercises and let me know if you have any questions or need further explanations!`"
      ],
      "metadata": {
        "id": "l1a5wpfM2hv6"
      }
    },
    {
      "cell_type": "markdown",
      "source": [
        "# Part Three File Handling\n",
        "Calm and do it slowly and in github also try to upload the files possible"
      ],
      "metadata": {
        "id": "ZlrFrill3Bl4"
      }
    },
    {
      "cell_type": "markdown",
      "source": [
        "## 11. program to open the text file and edit it"
      ],
      "metadata": {
        "id": "-9k8YJfF3BLW"
      }
    },
    {
      "cell_type": "code",
      "source": [
        "from google.colab import files\n",
        "uploaded = files.upload()\n",
        "f=open(\"file.txt\",\"r+\")\n",
        "print(f.read())\n",
        "f.close()"
      ],
      "metadata": {
        "id": "Quy4F2UR3c04",
        "colab": {
          "base_uri": "https://localhost:8080/",
          "height": 90
        },
        "outputId": "83bcdeb4-54e5-4e50-fd40-00f4f325374a"
      },
      "execution_count": null,
      "outputs": [
        {
          "output_type": "display_data",
          "data": {
            "text/plain": [
              "<IPython.core.display.HTML object>"
            ],
            "text/html": [
              "\n",
              "     <input type=\"file\" id=\"files-21ec3dc8-aba1-4758-ac2a-b81dda3f5730\" name=\"files[]\" multiple disabled\n",
              "        style=\"border:none\" />\n",
              "     <output id=\"result-21ec3dc8-aba1-4758-ac2a-b81dda3f5730\">\n",
              "      Upload widget is only available when the cell has been executed in the\n",
              "      current browser session. Please rerun this cell to enable.\n",
              "      </output>\n",
              "      <script>// Copyright 2017 Google LLC\n",
              "//\n",
              "// Licensed under the Apache License, Version 2.0 (the \"License\");\n",
              "// you may not use this file except in compliance with the License.\n",
              "// You may obtain a copy of the License at\n",
              "//\n",
              "//      http://www.apache.org/licenses/LICENSE-2.0\n",
              "//\n",
              "// Unless required by applicable law or agreed to in writing, software\n",
              "// distributed under the License is distributed on an \"AS IS\" BASIS,\n",
              "// WITHOUT WARRANTIES OR CONDITIONS OF ANY KIND, either express or implied.\n",
              "// See the License for the specific language governing permissions and\n",
              "// limitations under the License.\n",
              "\n",
              "/**\n",
              " * @fileoverview Helpers for google.colab Python module.\n",
              " */\n",
              "(function(scope) {\n",
              "function span(text, styleAttributes = {}) {\n",
              "  const element = document.createElement('span');\n",
              "  element.textContent = text;\n",
              "  for (const key of Object.keys(styleAttributes)) {\n",
              "    element.style[key] = styleAttributes[key];\n",
              "  }\n",
              "  return element;\n",
              "}\n",
              "\n",
              "// Max number of bytes which will be uploaded at a time.\n",
              "const MAX_PAYLOAD_SIZE = 100 * 1024;\n",
              "\n",
              "function _uploadFiles(inputId, outputId) {\n",
              "  const steps = uploadFilesStep(inputId, outputId);\n",
              "  const outputElement = document.getElementById(outputId);\n",
              "  // Cache steps on the outputElement to make it available for the next call\n",
              "  // to uploadFilesContinue from Python.\n",
              "  outputElement.steps = steps;\n",
              "\n",
              "  return _uploadFilesContinue(outputId);\n",
              "}\n",
              "\n",
              "// This is roughly an async generator (not supported in the browser yet),\n",
              "// where there are multiple asynchronous steps and the Python side is going\n",
              "// to poll for completion of each step.\n",
              "// This uses a Promise to block the python side on completion of each step,\n",
              "// then passes the result of the previous step as the input to the next step.\n",
              "function _uploadFilesContinue(outputId) {\n",
              "  const outputElement = document.getElementById(outputId);\n",
              "  const steps = outputElement.steps;\n",
              "\n",
              "  const next = steps.next(outputElement.lastPromiseValue);\n",
              "  return Promise.resolve(next.value.promise).then((value) => {\n",
              "    // Cache the last promise value to make it available to the next\n",
              "    // step of the generator.\n",
              "    outputElement.lastPromiseValue = value;\n",
              "    return next.value.response;\n",
              "  });\n",
              "}\n",
              "\n",
              "/**\n",
              " * Generator function which is called between each async step of the upload\n",
              " * process.\n",
              " * @param {string} inputId Element ID of the input file picker element.\n",
              " * @param {string} outputId Element ID of the output display.\n",
              " * @return {!Iterable<!Object>} Iterable of next steps.\n",
              " */\n",
              "function* uploadFilesStep(inputId, outputId) {\n",
              "  const inputElement = document.getElementById(inputId);\n",
              "  inputElement.disabled = false;\n",
              "\n",
              "  const outputElement = document.getElementById(outputId);\n",
              "  outputElement.innerHTML = '';\n",
              "\n",
              "  const pickedPromise = new Promise((resolve) => {\n",
              "    inputElement.addEventListener('change', (e) => {\n",
              "      resolve(e.target.files);\n",
              "    });\n",
              "  });\n",
              "\n",
              "  const cancel = document.createElement('button');\n",
              "  inputElement.parentElement.appendChild(cancel);\n",
              "  cancel.textContent = 'Cancel upload';\n",
              "  const cancelPromise = new Promise((resolve) => {\n",
              "    cancel.onclick = () => {\n",
              "      resolve(null);\n",
              "    };\n",
              "  });\n",
              "\n",
              "  // Wait for the user to pick the files.\n",
              "  const files = yield {\n",
              "    promise: Promise.race([pickedPromise, cancelPromise]),\n",
              "    response: {\n",
              "      action: 'starting',\n",
              "    }\n",
              "  };\n",
              "\n",
              "  cancel.remove();\n",
              "\n",
              "  // Disable the input element since further picks are not allowed.\n",
              "  inputElement.disabled = true;\n",
              "\n",
              "  if (!files) {\n",
              "    return {\n",
              "      response: {\n",
              "        action: 'complete',\n",
              "      }\n",
              "    };\n",
              "  }\n",
              "\n",
              "  for (const file of files) {\n",
              "    const li = document.createElement('li');\n",
              "    li.append(span(file.name, {fontWeight: 'bold'}));\n",
              "    li.append(span(\n",
              "        `(${file.type || 'n/a'}) - ${file.size} bytes, ` +\n",
              "        `last modified: ${\n",
              "            file.lastModifiedDate ? file.lastModifiedDate.toLocaleDateString() :\n",
              "                                    'n/a'} - `));\n",
              "    const percent = span('0% done');\n",
              "    li.appendChild(percent);\n",
              "\n",
              "    outputElement.appendChild(li);\n",
              "\n",
              "    const fileDataPromise = new Promise((resolve) => {\n",
              "      const reader = new FileReader();\n",
              "      reader.onload = (e) => {\n",
              "        resolve(e.target.result);\n",
              "      };\n",
              "      reader.readAsArrayBuffer(file);\n",
              "    });\n",
              "    // Wait for the data to be ready.\n",
              "    let fileData = yield {\n",
              "      promise: fileDataPromise,\n",
              "      response: {\n",
              "        action: 'continue',\n",
              "      }\n",
              "    };\n",
              "\n",
              "    // Use a chunked sending to avoid message size limits. See b/62115660.\n",
              "    let position = 0;\n",
              "    do {\n",
              "      const length = Math.min(fileData.byteLength - position, MAX_PAYLOAD_SIZE);\n",
              "      const chunk = new Uint8Array(fileData, position, length);\n",
              "      position += length;\n",
              "\n",
              "      const base64 = btoa(String.fromCharCode.apply(null, chunk));\n",
              "      yield {\n",
              "        response: {\n",
              "          action: 'append',\n",
              "          file: file.name,\n",
              "          data: base64,\n",
              "        },\n",
              "      };\n",
              "\n",
              "      let percentDone = fileData.byteLength === 0 ?\n",
              "          100 :\n",
              "          Math.round((position / fileData.byteLength) * 100);\n",
              "      percent.textContent = `${percentDone}% done`;\n",
              "\n",
              "    } while (position < fileData.byteLength);\n",
              "  }\n",
              "\n",
              "  // All done.\n",
              "  yield {\n",
              "    response: {\n",
              "      action: 'complete',\n",
              "    }\n",
              "  };\n",
              "}\n",
              "\n",
              "scope.google = scope.google || {};\n",
              "scope.google.colab = scope.google.colab || {};\n",
              "scope.google.colab._files = {\n",
              "  _uploadFiles,\n",
              "  _uploadFilesContinue,\n",
              "};\n",
              "})(self);\n",
              "</script> "
            ]
          },
          "metadata": {}
        },
        {
          "output_type": "stream",
          "name": "stdout",
          "text": [
            "Saving file.txt to file (1).txt\n",
            "text file\n"
          ]
        }
      ]
    },
    {
      "cell_type": "markdown",
      "source": [],
      "metadata": {
        "id": "IpFjSZUs07yj"
      }
    },
    {
      "cell_type": "markdown",
      "source": [
        "## 12. Program to list all the file in the directory\n"
      ],
      "metadata": {
        "id": "ovYWZKNH3AH_"
      }
    },
    {
      "cell_type": "code",
      "source": [
        "!pwd"
      ],
      "metadata": {
        "colab": {
          "base_uri": "https://localhost:8080/"
        },
        "id": "4PEW27Ir4QUn",
        "outputId": "4c665a19-899a-4f5d-a1f0-f8b10604e865"
      },
      "execution_count": null,
      "outputs": [
        {
          "output_type": "stream",
          "name": "stdout",
          "text": [
            "/root\n"
          ]
        }
      ]
    },
    {
      "cell_type": "code",
      "source": [
        "import os\n",
        "file_list = os.listdir()\n",
        "print(\"Files in the directory:\")\n",
        "print(file_list)"
      ],
      "metadata": {
        "colab": {
          "base_uri": "https://localhost:8080/"
        },
        "id": "_pWE0M7U2Am2",
        "outputId": "c2165704-0810-48dc-d11b-8a97d55af049"
      },
      "execution_count": null,
      "outputs": [
        {
          "output_type": "stream",
          "name": "stdout",
          "text": [
            "Files in the directory:\n",
            "['.bashrc', '.profile', '.ipython', 'ds.jpg', 'file.txt', '.local', 'file (1).txt', 'img.jpg', '.jupyter', 'file1.txt', '.tmux.conf', '.cache', '.wget-hsts', '.npm', '.config', '.keras', '.launchpadlib']\n"
          ]
        }
      ]
    },
    {
      "cell_type": "markdown",
      "source": [
        "## 13. program to find the name of list only the text file and only the image file specifically\n"
      ],
      "metadata": {
        "id": "pNalRqq-3mjE"
      }
    },
    {
      "cell_type": "code",
      "source": [
        "text=[]\n",
        "img=[]\n",
        "for i in file_list:\n",
        "  if 'txt' in i:\n",
        "    text.append(i)\n",
        "  elif 'jpg' in i:\n",
        "    img.append(i)\n",
        "print(\"Total files list: \",file_list)\n",
        "print(\"Text files list \",text)\n",
        "print(\"image files list \",img)"
      ],
      "metadata": {
        "colab": {
          "base_uri": "https://localhost:8080/"
        },
        "id": "7U38PuSI5DBJ",
        "outputId": "ff2ef0ba-5e2b-463b-c3e3-f0587d42057f"
      },
      "execution_count": null,
      "outputs": [
        {
          "output_type": "stream",
          "name": "stdout",
          "text": [
            "Total files list:  ['.bashrc', '.profile', '.ipython', 'ds.jpg', 'file.txt', '.local', 'file (1).txt', 'img.jpg', '.jupyter', 'file1.txt', '.tmux.conf', '.cache', '.wget-hsts', '.npm', '.config', '.keras', '.launchpadlib']\n",
            "Text files list  ['file.txt', 'file (1).txt', 'file1.txt']\n",
            "image files list  ['ds.jpg', 'img.jpg']\n"
          ]
        }
      ]
    },
    {
      "cell_type": "markdown",
      "source": [
        "## 14. Program to copy the the file and also the bundle of file to the specific location"
      ],
      "metadata": {
        "id": "7xVL49o739jv"
      }
    },
    {
      "cell_type": "code",
      "source": [
        "file=open(\"file.txt\",\"r\")\n",
        "file1=open(\"file1.txt\",\"w\")\n",
        "for i in file:\n",
        "  file1.write(i)\n",
        "file2=open(\"file1.txt\",\"r\")\n",
        "print(file2.read())"
      ],
      "metadata": {
        "id": "rlMl6YVH4I_z",
        "colab": {
          "base_uri": "https://localhost:8080/"
        },
        "outputId": "84524e77-51c7-4e30-8943-eb7e7fb319a5"
      },
      "execution_count": null,
      "outputs": [
        {
          "output_type": "stream",
          "name": "stdout",
          "text": [
            "\n"
          ]
        }
      ]
    },
    {
      "cell_type": "markdown",
      "source": [
        "## 15. Program to delete the specific file and folder"
      ],
      "metadata": {
        "id": "rzaMo5ZT4E7R"
      }
    },
    {
      "cell_type": "code",
      "source": [
        "os.remove(\"file.txt\")\n",
        "print(os.listdir())"
      ],
      "metadata": {
        "id": "Gpw4a5194oaa",
        "colab": {
          "base_uri": "https://localhost:8080/"
        },
        "outputId": "010f0290-fa5c-4ada-cb01-f29fb939e44b"
      },
      "execution_count": null,
      "outputs": [
        {
          "output_type": "stream",
          "name": "stdout",
          "text": [
            "['.bashrc', '.profile', '.ipython', 'ds.jpg', '.local', 'file (1).txt', 'img.jpg', '.jupyter', 'file1.txt', '.tmux.conf', '.cache', '.wget-hsts', '.npm', '.config', '.keras', '.launchpadlib']\n"
          ]
        }
      ]
    },
    {
      "cell_type": "markdown",
      "source": [],
      "metadata": {
        "id": "O2PS1zXT4pF5"
      }
    }
  ]
}