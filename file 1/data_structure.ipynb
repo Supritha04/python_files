{
  "nbformat": 4,
  "nbformat_minor": 0,
  "metadata": {
    "colab": {
      "provenance": [],
      "include_colab_link": true
    },
    "kernelspec": {
      "name": "python3",
      "display_name": "Python 3"
    },
    "language_info": {
      "name": "python"
    }
  },
  "cells": [
    {
      "cell_type": "markdown",
      "metadata": {
        "id": "view-in-github",
        "colab_type": "text"
      },
      "source": [
        "<a href=\"https://colab.research.google.com/github/Supritha04/python_files/blob/main/file%201/data_structure.ipynb\" target=\"_parent\"><img src=\"https://colab.research.google.com/assets/colab-badge.svg\" alt=\"Open In Colab\"/></a>"
      ]
    },
    {
      "cell_type": "markdown",
      "source": [
        "## 1.Difference between the list and tuple?"
      ],
      "metadata": {
        "id": "HN6tCq60j2mQ"
      }
    },
    {
      "cell_type": "code",
      "source": [
        "list_eg=[1,2,3,4]\n",
        "tup_eg=(1,2,3)\n",
        "print(\"list: \",list_eg)\n",
        "print(\"tuple: \",tup_eg)"
      ],
      "metadata": {
        "id": "Cw8ffkhMk6RQ",
        "colab": {
          "base_uri": "https://localhost:8080/"
        },
        "outputId": "7cb2b07d-c8a4-41e9-8081-215777c74fb6"
      },
      "execution_count": 2,
      "outputs": [
        {
          "output_type": "stream",
          "name": "stdout",
          "text": [
            "list:  [1, 2, 3, 4]\n",
            "tuple:  (1, 2, 3)\n"
          ]
        }
      ]
    },
    {
      "cell_type": "markdown",
      "source": [
        "## 2.How list is different from an array"
      ],
      "metadata": {
        "id": "uWhJG7hzk6Ov"
      }
    },
    {
      "cell_type": "code",
      "source": [],
      "metadata": {
        "id": "MowyCcINo4Mn"
      },
      "execution_count": null,
      "outputs": []
    },
    {
      "cell_type": "markdown",
      "source": [],
      "metadata": {
        "id": "1uPEIFbxmQwt"
      }
    },
    {
      "cell_type": "markdown",
      "source": [
        "## 3. Use the python list append(),copy(), clear, count, extends(), index(), insert(), pop(), reverse(), sort(), min(), max(),and sum()"
      ],
      "metadata": {
        "id": "_0Rn7JQSk6M1"
      }
    },
    {
      "cell_type": "code",
      "source": [
        "l=[1,2,3,4]\n",
        "print(l)\n",
        "l.append(5)\n",
        "print(l)\n",
        "c=l.copy()\n",
        "print(c)\n",
        "c.clear()\n",
        "print(c)\n",
        "count=l.count(4)\n",
        "print(count)\n",
        "l.extend([6,7])\n",
        "print(l)\n",
        "print(\"4th index: \",l.index(4))\n",
        "l.insert(2,8)\n",
        "print(l)\n",
        "p=l.pop()\n",
        "print(p)\n",
        "l.reverse()\n",
        "print(l)\n",
        "l.sort()\n",
        "print(l)\n",
        "min=min(l)\n",
        "max=max(l)\n",
        "sum=sum(l)\n",
        "print(\"min: \",min,\"max: \",max,\"sum: \",sum)"
      ],
      "metadata": {
        "colab": {
          "base_uri": "https://localhost:8080/"
        },
        "id": "oCBD-0yRs1DE",
        "outputId": "c5f31164-cf4d-434c-be64-841c570174b8"
      },
      "execution_count": 6,
      "outputs": [
        {
          "output_type": "stream",
          "name": "stdout",
          "text": [
            "[1, 2, 3, 4]\n",
            "[1, 2, 3, 4, 5]\n",
            "[1, 2, 3, 4, 5]\n",
            "[]\n",
            "1\n",
            "[1, 2, 3, 4, 5, 6, 7]\n",
            "4th index:  3\n",
            "[1, 2, 8, 3, 4, 5, 6, 7]\n",
            "7\n",
            "[6, 5, 4, 3, 8, 2, 1]\n",
            "[1, 2, 3, 4, 5, 6, 8]\n",
            "min:  1 max:  8 sum:  29\n"
          ]
        }
      ]
    },
    {
      "cell_type": "markdown",
      "source": [
        "## 4, How would you divide the list into two parts?"
      ],
      "metadata": {
        "id": "W9xfjUWak6J_"
      }
    },
    {
      "cell_type": "code",
      "source": [
        "l = [1, 2, 3, 4, 5, 6]\n",
        "length = 3\n",
        "fh = l[:length]\n",
        "sh = l[length:]\n",
        "\n",
        "print(fh)\n",
        "print(sh)\n"
      ],
      "metadata": {
        "colab": {
          "base_uri": "https://localhost:8080/"
        },
        "id": "glWaYqQ0vchw",
        "outputId": "dda03fd0-6fec-4ec4-f8af-ae9a0614db97"
      },
      "execution_count": 17,
      "outputs": [
        {
          "output_type": "stream",
          "name": "stdout",
          "text": [
            "[1, 2, 3]\n",
            "[4, 5, 6]\n"
          ]
        }
      ]
    },
    {
      "cell_type": "markdown",
      "source": [
        "## 5. how to filter the multiple of 3 from a given list and them remove the odd number from the new filtered list.\n",
        "Eg A = [1,2,3,4,5,6,7,8,9,21,23,24]\n",
        "Filter_lsit = [3,6,9,21,24]\n",
        "output_list = [6,24]"
      ],
      "metadata": {
        "id": "Qb1mVGfnk6G5"
      }
    },
    {
      "cell_type": "code",
      "source": [
        "l = [1, 2, 3, 4, 5, 6, 7, 8, 9, 21, 23, 24]\n",
        "fl = []\n",
        "for num in l:\n",
        "    if num % 3 == 0:\n",
        "        fl.append(num)\n",
        "ol = []\n",
        "for num in fl:\n",
        "    if num % 2 == 0:\n",
        "        ol.append(num)\n",
        "print(\"Original List:\", l)\n",
        "print(\"Filtered List (divisible by 3):\", fl)\n",
        "print(\"Output List (divisible by both 3 and 2):\", ol)"
      ],
      "metadata": {
        "colab": {
          "base_uri": "https://localhost:8080/"
        },
        "id": "qnmgs1zlw8nH",
        "outputId": "c4d395f3-3f36-45d6-ac89-11e8e1bb29e8"
      },
      "execution_count": 19,
      "outputs": [
        {
          "output_type": "stream",
          "name": "stdout",
          "text": [
            "Original List: [1, 2, 3, 4, 5, 6, 7, 8, 9, 21, 23, 24]\n",
            "Filtered List (divisible by 3): [3, 6, 9, 21, 24]\n",
            "Output List (divisible by both 3 and 2): [6, 24]\n"
          ]
        }
      ]
    },
    {
      "cell_type": "markdown",
      "source": [
        "## 6. How you can access keys and values simultaneously and update its value"
      ],
      "metadata": {
        "id": "auhYyjixk6FD"
      }
    },
    {
      "cell_type": "code",
      "source": [
        "d={'a': 1, 'b': 2, 'c': 3, 'd': 4}\n",
        "for key, value in d.items():\n",
        "    print(f\"Key: {key}, Value: {value}\")\n",
        "for key in d.keys():\n",
        "    d[key] *= 2\n",
        "print(\"Updated Dictionary:\", d)"
      ],
      "metadata": {
        "colab": {
          "base_uri": "https://localhost:8080/"
        },
        "id": "kpayFQc8yCnZ",
        "outputId": "c34d5768-ec88-49b6-e323-9da08219cd63"
      },
      "execution_count": 21,
      "outputs": [
        {
          "output_type": "stream",
          "name": "stdout",
          "text": [
            "Key: a, Value: 1\n",
            "Key: b, Value: 2\n",
            "Key: c, Value: 3\n",
            "Key: d, Value: 4\n",
            "Updated Dictionary: {'a': 2, 'b': 4, 'c': 6, 'd': 8}\n"
          ]
        }
      ]
    },
    {
      "cell_type": "markdown",
      "source": [
        "## 7. Write python program to join, merge, concatente the two dictionaries..\n"
      ],
      "metadata": {
        "id": "vV00n0awk5_G"
      }
    },
    {
      "cell_type": "code",
      "source": [
        "d1={'a': 1, 'b': 2}\n",
        "d2={'b': 3, 'c': 4}\n",
        "d1.update(d2)\n",
        "print(\"Joined Dictionary:\", d1)\n",
        "md={**d1, **d2}\n",
        "print(\"Merged Dictionary:\", md)\n",
        "cd = dict(list(d1.items()) + list(d2.items()))\n",
        "print(\"Concatenated Dictionary:\", cd)"
      ],
      "metadata": {
        "colab": {
          "base_uri": "https://localhost:8080/"
        },
        "id": "J4suhQuKykn_",
        "outputId": "8ee2b70b-8f17-46de-8a32-58a153b208ee"
      },
      "execution_count": 23,
      "outputs": [
        {
          "output_type": "stream",
          "name": "stdout",
          "text": [
            "Joined Dictionary: {'a': 1, 'b': 3, 'c': 4}\n",
            "Merged Dictionary: {'a': 1, 'b': 3, 'c': 4}\n",
            "Concatenated Dictionary: {'a': 1, 'b': 3, 'c': 4}\n"
          ]
        }
      ]
    },
    {
      "cell_type": "markdown",
      "source": [
        "## 8. How would you check a specific keys from the dictionary??\n"
      ],
      "metadata": {
        "id": "Z_7dpypWnQ-z"
      }
    },
    {
      "cell_type": "code",
      "source": [
        "d={'a': 1, 'b': 2, 'c': 3, 'd': 4}\n",
        "k='b'\n",
        "if(k in d):\n",
        "  print(k,\" is present in the list\")"
      ],
      "metadata": {
        "colab": {
          "base_uri": "https://localhost:8080/"
        },
        "id": "6Fdy3V7rzlxa",
        "outputId": "b5635a51-6d87-4453-9142-2b1a34133b49"
      },
      "execution_count": 24,
      "outputs": [
        {
          "output_type": "stream",
          "name": "stdout",
          "text": [
            "b  is present in the list\n"
          ]
        }
      ]
    },
    {
      "cell_type": "markdown",
      "source": [
        "## 9. write a python program to find the unique vowel present in the sentence"
      ],
      "metadata": {
        "id": "EjxeB4ntnirH"
      }
    },
    {
      "cell_type": "code",
      "source": [
        "s=\"Python is amazing\"\n",
        "vowels=set(\"aeiou\")\n",
        "uv=set()\n",
        "for char in s:\n",
        "    lc=char.lower()\n",
        "    if lc in vowels:\n",
        "        uv.add(lc)\n",
        "print(\"Unique vowels in the sentence:\",uv)"
      ],
      "metadata": {
        "colab": {
          "base_uri": "https://localhost:8080/"
        },
        "id": "XmRiEAdD0ACT",
        "outputId": "b5778e62-6104-4280-d5e1-1a0de59e9967"
      },
      "execution_count": 25,
      "outputs": [
        {
          "output_type": "stream",
          "name": "stdout",
          "text": [
            "Unique vowels in the sentence: {'i', 'o', 'a'}\n"
          ]
        }
      ]
    },
    {
      "cell_type": "markdown",
      "source": [
        "## 10. We know that tuple is immutable, do any thing and add element to the tuples."
      ],
      "metadata": {
        "id": "B1VBImcfns6V"
      }
    },
    {
      "cell_type": "code",
      "source": [
        "t=(1,2,3,4)\n",
        "#tuples are immutable so elements cannot be added\n",
        "l=list(t)\n",
        "l.append(4)\n",
        "nt= tuple(l)\n",
        "print(nt)"
      ],
      "metadata": {
        "colab": {
          "base_uri": "https://localhost:8080/"
        },
        "id": "PPcshDuq1eRx",
        "outputId": "cfc3eefb-840a-4a35-a563-3932e9ce0df2"
      },
      "execution_count": 26,
      "outputs": [
        {
          "output_type": "stream",
          "name": "stdout",
          "text": [
            "(1, 2, 3, 4, 4)\n"
          ]
        }
      ]
    },
    {
      "cell_type": "markdown",
      "source": [
        "## 11. How would you sum the list of tuple and sum of tuple of list\n",
        "list  = [(2,3),(4,5),(6,4)]\n",
        "output= [5,9,10]\n",
        "\n",
        "tuple  =([2,3],[4,5],[6,4])\n",
        "output  =  (5,9,10)"
      ],
      "metadata": {
        "id": "Yd7tDQHuoGFm"
      }
    },
    {
      "cell_type": "code",
      "source": [
        "lt=[(2, 3), (4, 5), (6, 4)]\n",
        "st=[sum(pair) for pair in lt]\n",
        "tl=([2, 3], [4, 5], [6, 4])\n",
        "sl=tuple(map(sum, tl))"
      ],
      "metadata": {
        "id": "twSssKVw3QJA"
      },
      "execution_count": 36,
      "outputs": []
    },
    {
      "cell_type": "markdown",
      "source": [
        "## 12. FIND THE FREQUENCY OF THE KEYS IN THE GIVEN DICTIONARY"
      ],
      "metadata": {
        "id": "YiXg_vDpoq7X"
      }
    },
    {
      "cell_type": "code",
      "source": [
        "md={'a': 2, 'b': 3, 'c': 1, 'd': 2, 'e': 3, 'f': 2}\n",
        "kf={key: list(md.values()).count(value) for key, value in md.items()}\n",
        "for key, f in kf.items():\n",
        "    print(f\"The key \",key,\"appears \",f,\"times in the dictionary\")"
      ],
      "metadata": {
        "colab": {
          "base_uri": "https://localhost:8080/"
        },
        "id": "TXeOPg4w4_Ia",
        "outputId": "9547eb0b-2d50-4e93-d18d-23f7294281eb"
      },
      "execution_count": 31,
      "outputs": [
        {
          "output_type": "stream",
          "name": "stdout",
          "text": [
            "The key  a appears  3 times in the dictionary\n",
            "The key  b appears  2 times in the dictionary\n",
            "The key  c appears  1 times in the dictionary\n",
            "The key  d appears  3 times in the dictionary\n",
            "The key  e appears  2 times in the dictionary\n",
            "The key  f appears  3 times in the dictionary\n"
          ]
        }
      ]
    }
  ]
}