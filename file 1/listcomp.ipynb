{
  "nbformat": 4,
  "nbformat_minor": 0,
  "metadata": {
    "colab": {
      "provenance": [],
      "include_colab_link": true
    },
    "kernelspec": {
      "name": "python3",
      "display_name": "Python 3"
    },
    "language_info": {
      "name": "python"
    }
  },
  "cells": [
    {
      "cell_type": "markdown",
      "metadata": {
        "id": "view-in-github",
        "colab_type": "text"
      },
      "source": [
        "<a href=\"https://colab.research.google.com/github/Supritha04/python_files/blob/main/file%201/listcomp.ipynb\" target=\"_parent\"><img src=\"https://colab.research.google.com/assets/colab-badge.svg\" alt=\"Open In Colab\"/></a>"
      ]
    },
    {
      "cell_type": "markdown",
      "source": [],
      "metadata": {
        "id": "KZ91_NegViLz"
      }
    },
    {
      "cell_type": "markdown",
      "source": [
        "## problem 1\n",
        "Create a dictionary where the keys correspond to the area of a flat adn value for each is the price of the house for 10 flat in kompally"
      ],
      "metadata": {
        "id": "B1Fhdmi9V3LI"
      }
    },
    {
      "cell_type": "code",
      "source": [
        "# Dictionary of house area and house prices of 10 houses in\n",
        "#HInt: area_price = {area:price}\n",
        "area_price={1200:87.0,1000:73.0,1500:105.0,1400:99.0,900:69.0,500:45.0,100:21.0,800:63.0,1600:110.6,7000:432.0}\n",
        "print(area_price)"
      ],
      "metadata": {
        "id": "zihWmw3NWXQX",
        "colab": {
          "base_uri": "https://localhost:8080/"
        },
        "outputId": "b19300f5-829c-4240-d0a8-7df564d34bd1"
      },
      "execution_count": 12,
      "outputs": [
        {
          "output_type": "stream",
          "name": "stdout",
          "text": [
            "{1200: 87.0, 1000: 73.0, 1500: 105.0, 1400: 99.0, 900: 69.0, 500: 45.0, 100: 21.0, 800: 63.0, 1600: 110.6, 7000: 432.0}\n"
          ]
        }
      ]
    },
    {
      "cell_type": "markdown",
      "source": [
        "### Now broker predicts the price as can be written as : <b><code>predicted_price(area) = 0.06*area + 15</code></b>"
      ],
      "metadata": {
        "id": "JI2jaDf8Wp2D"
      }
    },
    {
      "cell_type": "markdown",
      "source": [
        "Using the concept of list comprehension,create a list of predicted flat price using the above formula\n"
      ],
      "metadata": {
        "id": "v_K_Z8dtW6-D"
      }
    },
    {
      "cell_type": "code",
      "source": [
        "def pp(a):\n",
        "  return ((0.06*a)+15)\n",
        "# Create a list of house areas\n",
        "ar=[1200,1000,1500,1400,900,500,100,800,1600,7000]\n",
        "# Use list comprehension to store the predicted house prices in a list\n",
        "price=[pp(i) for i in ar]\n",
        "# Print the list of predicted flat prices\n",
        "print(price)"
      ],
      "metadata": {
        "id": "F732P6DHXVYH",
        "colab": {
          "base_uri": "https://localhost:8080/"
        },
        "outputId": "fb2f7096-2575-46cb-c8f6-aa9844e2e87e"
      },
      "execution_count": 13,
      "outputs": [
        {
          "output_type": "stream",
          "name": "stdout",
          "text": [
            "[87.0, 75.0, 105.0, 99.0, 69.0, 45.0, 21.0, 63.0, 111.0, 435.0]\n"
          ]
        }
      ]
    },
    {
      "cell_type": "markdown",
      "source": [
        "## Create another list which contains the squares of differences of each element of the two price lists : the actual prices and the predicted prices\n"
      ],
      "metadata": {
        "id": "-ZrRO78DXZq6"
      }
    },
    {
      "cell_type": "code",
      "source": [
        "sd=[(area_price[area] - pp(area))**2 for area in area_price.keys()]\n",
        "print(sd)"
      ],
      "metadata": {
        "id": "dEpxZqK7XzeD",
        "colab": {
          "base_uri": "https://localhost:8080/"
        },
        "outputId": "5061fe2c-77f7-4721-eb69-230a7328f591"
      },
      "execution_count": 15,
      "outputs": [
        {
          "output_type": "stream",
          "name": "stdout",
          "text": [
            "[0.0, 4.0, 0.0, 0.0, 0.0, 0.0, 0.0, 0.0, 0.16000000000000456, 9.0]\n"
          ]
        }
      ]
    },
    {
      "cell_type": "markdown",
      "source": [
        "## <u> Problem 2</u>\n",
        "\n",
        "## A sigmoid function is a mathematical function having a characteristic \"S\"-shaped curve or sigmoid curve. A common example of a sigmoid function is the logistic function shown in the first figure and defined by the formula:\n",
        "\n",
        "$$ h(x) =  \\frac{\\mathrm{1} }{\\mathrm{1} + e^{-x} }  $$\n",
        "\n",
        "\n",
        "## Range is defined as all the possible values which the function $h(x)$ can take. Domain is defined as all the possible values which $x$ can take. In this case, range of the function is between 0 to 1 and the domain of the function is all real numbers"
      ],
      "metadata": {
        "id": "PEC_OtXRXrCg"
      }
    },
    {
      "cell_type": "markdown",
      "source": [
        "### You are given a list of values of $x$. You need to use list comprehension to calculate the corresponding transformation according to the sigmoid function defined above"
      ],
      "metadata": {
        "id": "YZCTres_XsB0"
      }
    },
    {
      "cell_type": "code",
      "source": [
        "# Return a list of boolean values if the sigmoid_of_x is greater than or equal to 0 and less than or equal to 1\n",
        "import math\n",
        "def sigmoid(x):\n",
        "    return 1 / (1 + math.exp(-x))\n",
        "# Create a list of those values which are greater than 0.5\n",
        "x=[0,1,2,5,6]\n",
        "val=[sigmoid(i) for i in x]\n",
        "print(val)"
      ],
      "metadata": {
        "id": "TmYb4SluYC4S",
        "colab": {
          "base_uri": "https://localhost:8080/"
        },
        "outputId": "348ff503-c8c9-4806-9229-a45e21a64f59"
      },
      "execution_count": 16,
      "outputs": [
        {
          "output_type": "stream",
          "name": "stdout",
          "text": [
            "[0.5, 0.7310585786300049, 0.8807970779778823, 0.9933071490757153, 0.9975273768433653]\n"
          ]
        }
      ]
    },
    {
      "cell_type": "markdown",
      "source": [
        "# <u> Problem 3</u>\n",
        "\n",
        "## You are given a sentence : <code>\"I have been walking and running and dancing and smiling and laughing all my life, yet it all seems pointless. So i stoped thinking and started doing\"</code>\n",
        "\n",
        "## You are required to extract all those words from this sentence in a list which ends with <code>ing</code>"
      ],
      "metadata": {
        "id": "j31JnVUtYNU-"
      }
    },
    {
      "cell_type": "code",
      "source": [
        "sentence = \"I have been walking and running and dancing and smiling and laughing all my life, yet it all seems pointless. So I stopped thinking and started doing\"\n",
        "words = sentence.split()\n",
        "ing_words = []\n",
        "for word in words:\n",
        "    if word.endswith(\"ing\"):\n",
        "        word=word.strip(\",.\")\n",
        "        ing_words.append(word)\n",
        "print(ing_words)\n"
      ],
      "metadata": {
        "id": "8s6rFnH2YO1z",
        "colab": {
          "base_uri": "https://localhost:8080/"
        },
        "outputId": "af51ddac-cbf1-467a-c3bb-e833231b4cfb"
      },
      "execution_count": 25,
      "outputs": [
        {
          "output_type": "stream",
          "name": "stdout",
          "text": [
            "['walking', 'running', 'dancing', 'smiling', 'laughing', 'thinking', 'doing']\n"
          ]
        }
      ]
    },
    {
      "cell_type": "markdown",
      "source": [
        "# <u> Problem 4</u>\n",
        "\n",
        "#### Natural Language Processing or NLP is one of the most promising fields in Machine Learning. Most of the times in NLP we deal with the textual data (a bunch of strings). Sometimes when we are processing the text, it is a common practice to get rid of some set of stop words from our original text. By default stop words are very common words used in English language such as and, or, punctuations etc.\n",
        "\n",
        "#### In this exercise, you are provided with a default set of stop words and you need to add some extra set of custom words and remove these words from the given sentence and obtain the sentence without the stop words"
      ],
      "metadata": {
        "id": "rYwInhGlYOyz"
      }
    },
    {
      "cell_type": "code",
      "source": [
        "# A sample sentence\n",
        "sentence=\"Hello everyone! Good morning. It's been half a year.\"\n",
        "# Print your sentence\n",
        "print(sentence)"
      ],
      "metadata": {
        "id": "b86yHqHEYOpp",
        "colab": {
          "base_uri": "https://localhost:8080/"
        },
        "outputId": "d0751662-df96-4cc3-e5f1-e18e7be3f161"
      },
      "execution_count": 19,
      "outputs": [
        {
          "output_type": "stream",
          "name": "stdout",
          "text": [
            "Hello everyone! Good morning. It's been half a year.\n"
          ]
        }
      ]
    },
    {
      "cell_type": "code",
      "source": [
        "# Default set of stop words\n",
        "stop_words = {\"i\", \"me\", \"my\", \"myself\", \"we\", \"our\", \"ours\", \"ourselves\", \"you\", \"your\", \"yours\", \"yourself\",\n",
        "              \"yourselves\", \"he\", \"him\", \"his\", \"himself\", \"she\", \"her\", \"hers\", \"herself\", \"it\", \"its\", \"itself\",\n",
        "              \"they\", \"them\", \"their\", \"theirs\", \"themselves\", \"what\", \"which\", \"who\", \"whom\", \"this\", \"that\",\n",
        "              \"these\", \"those\", \"am\", \"is\", \"are\", \"was\", \"were\", \"be\", \"been\", \"being\", \"have\", \"has\", \"had\",\n",
        "              \"having\", \"do\", \"does\", \"did\", \"doing\", \"a\", \"an\", \"the\", \"and\", \"but\", \"if\", \"or\", \"because\",\n",
        "              \"as\", \"until\", \"while\", \"of\", \"at\", \"by\", \"for\", \"with\", \"about\", \"against\", \"between\", \"into\",\n",
        "              \"through\", \"during\", \"before\", \"after\", \"above\", \"below\", \"to\", \"from\", \"up\", \"down\", \"in\", \"out\",\n",
        "              \"on\", \"off\", \"over\", \"under\", \"again\", \"further\", \"then\", \"once\", \"here\", \"there\", \"when\", \"where\",\n",
        "              \"why\", \"how\", \"all\", \"any\", \"both\", \"each\", \"few\", \"more\", \"most\", \"other\", \"some\", \"such\", \"no\",\n",
        "              \"nor\", \"not\", \"only\", \"own\", \"same\", \"so\", \"than\", \"too\", \"very\", \"s\", \"t\", \"can\", \"will\", \"just\",\n",
        "              \"don\", \"should\", \"now\"}"
      ],
      "metadata": {
        "id": "RbyJscXWYh0z"
      },
      "execution_count": 20,
      "outputs": []
    },
    {
      "cell_type": "code",
      "source": [
        "custom_stop_words = [\"hello\",\"folks\",\"good\",\"morning\",\"half\",\"year\"]\n",
        "# Update the set of stop words by adding the custom stop word\n",
        "stop_words.update(custom_stop_words)"
      ],
      "metadata": {
        "id": "JCZ3mWDEYplT"
      },
      "execution_count": 21,
      "outputs": []
    },
    {
      "cell_type": "code",
      "source": [
        "# Create the list of words in the given sentence.\n",
        "words = sentence.split()"
      ],
      "metadata": {
        "id": "OG_iCUm9Yyx3"
      },
      "execution_count": 22,
      "outputs": []
    },
    {
      "cell_type": "code",
      "source": [
        "# Use list comprehension to remove the set of updated stop words from the list of words\n",
        "fw=[word for word in words if word.lower() not in stop_words]"
      ],
      "metadata": {
        "id": "Kk665UtXY3UH"
      },
      "execution_count": 23,
      "outputs": []
    },
    {
      "cell_type": "code",
      "source": [
        "# Finally using the join() method, get the sentence without the stop words. Keep in mind that every word in the sentence will be separated by space\n",
        "ms=' '.join(fw)\n",
        "# Print the modified sentence\n",
        "print(ms)"
      ],
      "metadata": {
        "id": "RzO-jDZVY6wD",
        "colab": {
          "base_uri": "https://localhost:8080/"
        },
        "outputId": "cb269891-af21-42a7-99c0-06646c067570"
      },
      "execution_count": 24,
      "outputs": [
        {
          "output_type": "stream",
          "name": "stdout",
          "text": [
            "everyone! morning. It's year.\n"
          ]
        }
      ]
    }
  ]
}