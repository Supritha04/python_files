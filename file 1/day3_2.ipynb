{
  "nbformat": 4,
  "nbformat_minor": 0,
  "metadata": {
    "colab": {
      "provenance": [],
      "include_colab_link": true
    },
    "kernelspec": {
      "name": "python3",
      "display_name": "Python 3"
    },
    "language_info": {
      "name": "python"
    }
  },
  "cells": [
    {
      "cell_type": "markdown",
      "metadata": {
        "id": "view-in-github",
        "colab_type": "text"
      },
      "source": [
        "<a href=\"https://colab.research.google.com/github/Supritha04/python_files/blob/main/file%201/day3_2.ipynb\" target=\"_parent\"><img src=\"https://colab.research.google.com/assets/colab-badge.svg\" alt=\"Open In Colab\"/></a>"
      ]
    },
    {
      "cell_type": "markdown",
      "source": [
        "## Write a python program to crate a lambda funciotn that adds 15 to a given numebr\n"
      ],
      "metadata": {
        "id": "Cu2MTBpAH98v"
      }
    },
    {
      "cell_type": "code",
      "source": [
        "sum=lambda x:x+15\n",
        "n=10"
      ],
      "metadata": {
        "id": "QBZKf4hYIYh-"
      },
      "execution_count": 1,
      "outputs": []
    },
    {
      "cell_type": "code",
      "source": [
        "res=sum(n)\n",
        "print(res)"
      ],
      "metadata": {
        "id": "ERMc1QfnIYgd",
        "colab": {
          "base_uri": "https://localhost:8080/"
        },
        "outputId": "dea7c01e-2f9c-455c-a7c5-de4eab6ac1ff"
      },
      "execution_count": 2,
      "outputs": [
        {
          "output_type": "stream",
          "name": "stdout",
          "text": [
            "25\n"
          ]
        }
      ]
    },
    {
      "cell_type": "markdown",
      "source": [
        "## Write a funciton to create a prime number generator"
      ],
      "metadata": {
        "id": "QvheE-ZfIJFc"
      }
    },
    {
      "cell_type": "code",
      "source": [
        "def is_prime(num):\n",
        "    if num < 2:\n",
        "        return False\n",
        "    for i in range(2, int(num**0.5) + 1):\n",
        "        if num % i == 0:\n",
        "            return False\n",
        "    return True\n",
        "def prime_generator():\n",
        "    num = 2\n",
        "    while True:\n",
        "        if is_prime(num):\n",
        "            yield num\n",
        "        num += 1\n",
        "num_primes = 10\n",
        "generator = prime_generator()\n",
        "for _ in range(num_primes):\n",
        "    print(next(generator))"
      ],
      "metadata": {
        "id": "z19r-AaMIIlC",
        "colab": {
          "base_uri": "https://localhost:8080/"
        },
        "outputId": "c38b4a3b-1709-4f8a-bf0a-5077fad412de"
      },
      "execution_count": 3,
      "outputs": [
        {
          "output_type": "stream",
          "name": "stdout",
          "text": [
            "2\n",
            "3\n",
            "5\n",
            "7\n",
            "11\n",
            "13\n",
            "17\n",
            "19\n",
            "23\n",
            "29\n"
          ]
        }
      ]
    },
    {
      "cell_type": "markdown",
      "source": [
        "## Create a lambda funtion to filter out the even numebr from a given list"
      ],
      "metadata": {
        "id": "fgG1qcgaIZKL"
      }
    },
    {
      "cell_type": "code",
      "source": [
        "l=[1,82,12,90,99,21,23,16]\n",
        "en=list(filter(lambda x: x%2!=0,l))\n",
        "print(en)"
      ],
      "metadata": {
        "id": "FWQS-SgjImHw",
        "colab": {
          "base_uri": "https://localhost:8080/"
        },
        "outputId": "f7ead781-d2ed-42a9-fdf3-d42651cff2e0"
      },
      "execution_count": 5,
      "outputs": [
        {
          "output_type": "stream",
          "name": "stdout",
          "text": [
            "[1, 99, 21, 23]\n"
          ]
        }
      ]
    },
    {
      "cell_type": "markdown",
      "source": [
        "## Create a funciton for prime numebr generator"
      ],
      "metadata": {
        "id": "c1H7iXqDIuJI"
      }
    },
    {
      "cell_type": "code",
      "source": [
        "def is_prime(num):\n",
        "    if num < 2:\n",
        "        return False\n",
        "    for i in range(2, int(num**0.5) + 1):\n",
        "        if num % i == 0:\n",
        "            return False\n",
        "    return True\n",
        "def prime_generator():\n",
        "    num = 2\n",
        "    while True:\n",
        "        if is_prime(num):\n",
        "            yield num\n",
        "        num += 1\n",
        "num_primes =5\n",
        "generator = prime_generator()\n",
        "for _ in range(num_primes):\n",
        "    print(next(generator))"
      ],
      "metadata": {
        "id": "B6zt1ESKI2T4",
        "colab": {
          "base_uri": "https://localhost:8080/"
        },
        "outputId": "74395c65-357d-4d35-adcf-ff67d6c1016b"
      },
      "execution_count": 6,
      "outputs": [
        {
          "output_type": "stream",
          "name": "stdout",
          "text": [
            "2\n",
            "3\n",
            "5\n",
            "7\n",
            "11\n"
          ]
        }
      ]
    },
    {
      "cell_type": "markdown",
      "source": [
        "## create funciton for fibbonacci series generator"
      ],
      "metadata": {
        "id": "NMp0TAZaI18z"
      }
    },
    {
      "cell_type": "code",
      "source": [
        "def fibonacci():\n",
        "    a,b=0,1\n",
        "    while True:\n",
        "        yield a\n",
        "        a,b=b,a+b\n",
        "n=10\n",
        "generator=fibonacci()\n",
        "for _ in range(n):\n",
        "    print(next(generator))\n"
      ],
      "metadata": {
        "id": "dpa2ABE8JCnt",
        "colab": {
          "base_uri": "https://localhost:8080/"
        },
        "outputId": "1b3b13b1-e9ad-4255-d884-ee128c1350b6"
      },
      "execution_count": 7,
      "outputs": [
        {
          "output_type": "stream",
          "name": "stdout",
          "text": [
            "0\n",
            "1\n",
            "1\n",
            "2\n",
            "3\n",
            "5\n",
            "8\n",
            "13\n",
            "21\n",
            "34\n"
          ]
        }
      ]
    }
  ]
}